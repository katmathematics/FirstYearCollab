{
  "nbformat": 4,
  "nbformat_minor": 0,
  "metadata": {
    "colab": {
      "name": "practice_assignment_starter.ipynb",
      "provenance": []
    },
    "kernelspec": {
      "name": "python3",
      "display_name": "Python 3"
    }
  },
  "cells": [
    {
      "cell_type": "markdown",
      "metadata": {
        "id": "nfq2exZ5CCXJ"
      },
      "source": [
        "# Practice Assignment \n",
        "The goal of this assignment is to get you familiar with using GitHub classroom and begin using Google Colab (www.colab.research.google.com). \n",
        "\n",
        "Below you will find a few tasks. Please complete them and submit your completed notebook to GitHub classroom.\n",
        "## Exercise Overview:\n",
        "1. Hello World\n",
        "2. Create a text cell that has the specified content.\n",
        "3. Create a code cell with a simple function and test it\n",
        "\n",
        "***"
      ]
    },
    {
      "cell_type": "markdown",
      "metadata": {
        "id": "wEFmynMxrkXI"
      },
      "source": [
        "## Exercise #1:"
      ]
    },
    {
      "cell_type": "code",
      "metadata": {
        "id": "HM45Ej1BCnSs",
        "outputId": "d78e32ad-9586-4ec9-a55f-be5ee2d41c60",
        "colab": {
          "base_uri": "https://localhost:8080/"
        }
      },
      "source": [
        "#As with any new environment, start out by printing out Hello World\n",
        "#-------Your Code should go below-------------\n",
        "print(\"Cześć world!\")\n",
        "\n",
        "# to run a cell, use the shortcut <shift + return> Try it now!"
      ],
      "execution_count": 4,
      "outputs": [
        {
          "output_type": "stream",
          "name": "stdout",
          "text": [
            "Cześć world!\n"
          ]
        }
      ]
    },
    {
      "cell_type": "markdown",
      "metadata": {
        "id": "1n1IsDhmEWRh"
      },
      "source": [
        "## Using different kinds of cells:\n",
        "\n",
        "One of the great things about using IPython Notebooks (.ipynb files), is that it is a great interface to combine functioning code with clear explanations. There are two main kinds of cells that you'll be using in your .ipynb:\n",
        "- Text Cells\n",
        "- Code Cells\n",
        "\n",
        "Text cells use Markdown (a lightweight markup language for creating formatted text using a plain-text editor). This means that you type in plain text, but add certian tags to indicate different levels of headings, dividers, **bold**/*italics*/`code`. [Here's a markdown cheatsheet](https://medium.com/@ingeh/markdown-for-jupyter-notebooks-cheatsheet-386c05aeebed).\n",
        "***\n"
      ]
    },
    {
      "cell_type": "markdown",
      "metadata": {
        "id": "M8BacCUqrLYW"
      },
      "source": [
        "## Exercise #2:\n",
        "### Text Cell:\n",
        "1. Below this text cell, create a new text cell (hover over the horizontal border and click ' + Text').\n",
        "2. Add some text content that tells me more about you. \n",
        "3. Add a title to the cell using the headings markdown\n",
        "4. Use 3 other markdown elements in the cell.\n",
        "\n",
        "Once you've added these elements, you can run the cell just like a code cell by using the <shift+return> shortcut."
      ]
    },
    {
      "cell_type": "markdown",
      "source": [
        "## Fun Facts About Me! 😃\n",
        "***\n",
        "  - <font color=darkred>I enjoy learning about the history of video games, especially Nintendo</font>\n",
        "    - <font color=darkred>My Top 3 Game Consoles I own: \n",
        "      1. Switch\n",
        "      2. Game Boy Advance SP\n",
        "      3. DS Lite\n",
        "  - <font color=darkorange>My favorite place to vacation is Denver, Colorado.</font>\n",
        "  - <font color=yellow>As someone who enjoys designing things in a thoughtful manner the fact that this text is in an unreadable color bothers me greatly</font>\n",
        "  - <font color=lightgreen>I love dinosaurs 🦖</font>\n",
        "  - <font color=darkblue>I am absolutely fascinated by all kinds of wild life, so if I'm ever a few moments late to a class its typically because I saw a really cool bug 🐛</font>\n",
        "  - <font color=purple>I enjoy watching cartoons and learning about the art of animation, even though I'm not much of an artist myself\n",
        "    </font>\n",
        "\n",
        "<details>\n",
        "<summary><font color=tan>This UTF-8 Geometric Shape looks like a waffle: &#9638;</font></summary>\n",
        "\n",
        "***\n",
        "\n",
        "- [This text links to a video of a pig waking up for a cookie](https://www.youtube.com/watch?v=6zbsUtQL4nY&t=2s)\n",
        "</details>\n",
        "\n",
        "\n",
        "\n"
      ],
      "metadata": {
        "id": "eQUPYrcfgqdw"
      }
    },
    {
      "cell_type": "markdown",
      "metadata": {
        "id": "Y9u7RJcMsD-3"
      },
      "source": [
        "## Exercise #3:\n",
        "#### Code Cell:\n",
        "1. Now, create a code cell ( '+ Code' button). \n",
        "2. Write a function that takes in two numbers, x and y, and returns the product of the two numbers. \n",
        "3. Test your function by giving it two numbers and printing out the result."
      ]
    }
  ]
}